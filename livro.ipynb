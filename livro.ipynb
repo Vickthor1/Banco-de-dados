{
 "cells": [
  {
   "cell_type": "code",
   "execution_count": null,
   "id": "ba0d58e9",
   "metadata": {
    "vscode": {
     "languageId": "plaintext"
    }
   },
   "outputs": [],
   "source": [
    "!pip install pymongo #instalação da biblioteca usada"
   ]
  },
  {
   "cell_type": "code",
   "execution_count": null,
   "id": "5364a4e8",
   "metadata": {
    "vscode": {
     "languageId": "plaintext"
    }
   },
   "outputs": [],
   "source": [
    "from pymongo import MongoClient\n",
    "\n",
    "client = MongoClient(\"mongodb://localhost27017/\") #aqui é inserido o host\n",
    "\n",
    "db = client['biblioteca_digital'] #nome da biblioteca\n",
    "\n",
    "print(f\"Banco de dados atual: {db.name}\")"
   ]
  },
  {
   "cell_type": "code",
   "execution_count": null,
   "id": "6a7ecf09",
   "metadata": {
    "vscode": {
     "languageId": "plaintext"
    }
   },
   "outputs": [],
   "source": [
    "livros = db.livros\n",
    "\n",
    "livros.insert_one({\n",
    "    \"titulo\":\"O senhor dos anéis\",\n",
    "    \"autor\":\"Tolkiem\",\n",
    "    \"ano\":1992,\n",
    "    \"genero\":[\"Ficção\",\"Distopia\"],\n",
    "    \"disponivel\":True,\n",
    "    \"Avaliações\":[\n",
    "        {\"usuario\":\"Victor\",\"nota\":10,\"comentario\":\"Simplesmente incrivel\"}\n",
    "    ]\n",
    "})"
   ]
  }
 ],
 "metadata": {
  "language_info": {
   "name": "python"
  }
 },
 "nbformat": 4,
 "nbformat_minor": 5
}
