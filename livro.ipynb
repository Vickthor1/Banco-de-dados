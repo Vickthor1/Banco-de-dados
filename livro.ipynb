{
 "cells": [
  {
   "cell_type": "code",
   "execution_count": null,
   "id": "ba0d58e9",
   "metadata": {},
   "outputs": [],
   "source": [
    "!pip install pymongo #instalação da biblioteca usada"
   ]
  },
  {
   "cell_type": "code",
   "execution_count": 1,
   "id": "5364a4e8",
   "metadata": {},
   "outputs": [
    {
     "name": "stdout",
     "output_type": "stream",
     "text": [
      "Banco de dados atual: biblioteca_digital\n"
     ]
    }
   ],
   "source": [
    "#ativar o Host local antes de efetuar os testes!\n",
    "from pymongo import MongoClient\n",
    "\n",
    "#aqui é inserido o host\n",
    "client = MongoClient(\"mongodb://localhost27017/\")\n",
    "\n",
    "#nome da biblioteca\n",
    "db = client['biblioteca_digital']\n",
    "\n",
    "print(f\"Banco de dados atual: {db.name}\")"
   ]
  },
  {
   "cell_type": "code",
   "execution_count": null,
   "id": "6a7ecf09",
   "metadata": {},
   "outputs": [],
   "source": [
    "livros = db.livros\n",
    "\n",
    "livros.insert_one({\n",
    "    \"titulo\":\"O senhor dos anéis\",\n",
    "    \"autor\":\"Tolkiem\",\n",
    "    \"ano\":1992,\n",
    "    \"genero\":[\"Ficção\",\"Distopia\"],\n",
    "    \"disponivel\":True,\n",
    "    \"Avaliações\":[\n",
    "        {\"usuario\":\"Victor\",\"nota\":10,\"comentario\":\"Simplesmente incrivel\"}\n",
    "    ]\n",
    "})"
   ]
  },
  {
   "cell_type": "code",
   "execution_count": null,
   "id": "04c847f3",
   "metadata": {},
   "outputs": [],
   "source": [
    "#Dado esses códigos de explicação pelo professor, bolei uma forma de colocar as informações em objeto e em função\n",
    "#livros = db.livros\n",
    "\n",
    "class Livro:\n",
    "    def __init__(self,titulo,autor,ano,genero):\n",
    "        self.titulo = titulo\n",
    "        self.autor = autor\n",
    "        self.ano = ano\n",
    "        self.genero = genero\n",
    "        \n",
    "    def __str__(self):\n",
    "        return f\"Titulo:{self.titulo}, autor:{self.autor}, ano:{self.ano}, genero:{self.genero}\"\n",
    "    \n",
    "    def receber(self):\n",
    "        livros.insert_one({\n",
    "        \"titulo\":self.titulo,\n",
    "        \"autor\":self.autor,\n",
    "        \"ano\":self.ano,\n",
    "        \"genero\":[self.genero],\n",
    "        \"disponivel\":True,\n",
    "        \"Avaliações\":[\n",
    "            {\"usuario\":\"Victor\",\"nota\":10,\"comentario\":\"Simplesmente incrivel\"}\n",
    "        ]\n",
    "})\n",
    "\n",
    "Livro1 = Livro(\"A renegada do submundo\",\"Victor\",2027,\"terror psicológico\")\n",
    "\n",
    "print(Livro1)"
   ]
  }
 ],
 "metadata": {
  "kernelspec": {
   "display_name": ".venv",
   "language": "python",
   "name": "python3"
  },
  "language_info": {
   "codemirror_mode": {
    "name": "ipython",
    "version": 3
   },
   "file_extension": ".py",
   "mimetype": "text/x-python",
   "name": "python",
   "nbconvert_exporter": "python",
   "pygments_lexer": "ipython3",
   "version": "3.13.7"
  }
 },
 "nbformat": 4,
 "nbformat_minor": 5
}
