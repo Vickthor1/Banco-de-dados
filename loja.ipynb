{
 "cells": [
  {
   "cell_type": "code",
   "execution_count": null,
   "id": "be916f88",
   "metadata": {},
   "outputs": [],
   "source": [
    "!pip install pymongo"
   ]
  },
  {
   "cell_type": "code",
   "execution_count": null,
   "id": "c355f83a",
   "metadata": {},
   "outputs": [],
   "source": [
    "#ativar o Host local antes de efetuar os testes!\n",
    "from pymongo import MongoClient\n",
    "\n",
    "#pega a data e hora para colocar no documento\n",
    "from datetime import datetime\n",
    "\n",
    "#aqui é inserido o host\n",
    "client = MongoClient(\"mongodb://localhost27017/\")\n",
    "\n",
    "#nome da biblioteca\n",
    "db = client[\"loja\"]\n",
    "\n",
    "print(f\"Banco de dados atual: {db.name}\")"
   ]
  },
  {
   "cell_type": "code",
   "execution_count": null,
   "id": "d1b03d97",
   "metadata": {},
   "outputs": [],
   "source": [
    "# Coleções\n",
    "mercadorias = db[\"mercadorias\"]\n",
    "clientes = db[\"clientes\"]\n",
    "vendas = db[\"vendas\"]\n",
    "\n",
    "# Inserir mercadorias de uma vez só\n",
    "mercadorias.insert_many([\n",
    "    { \"produto\": \"Notebook Dell\", \"valor\": 3500.00, \"estoque\": 15 },\n",
    "    { \"produto\": \"Mouse Logitech\", \"valor\": 120.00, \"estoque\": 50 },\n",
    "    { \"produto\": \"Teclado Mecânico\", \"valor\": 250.00, \"estoque\": 30 }\n",
    "])\n",
    "\n",
    "# Inserir cliente de maneira unica\n",
    "clientes.insert_one({\n",
    "    \"nome\": \"Maria Silva\",\n",
    "    \"idade\": 28,\n",
    "    \"mercadorias_compradas\": [\"Notebook Dell\"],\n",
    "    \"valores_mercadorias\": [3500.00]\n",
    "})\n",
    "\n",
    "# Inserir venda (sem usar _id do cliente, pois ainda estou aprendendo a lidar)\n",
    "vendas.insert_one({\n",
    "    \"cliente\": \"Maria Silva\",\n",
    "    \"data\": datetime.now(),\n",
    "    \"itens\": [\n",
    "        { \"produto\": \"Notebook Dell\", \"quantidade\": 1, \"valor_unitario\": 3500.00 }\n",
    "    ],\n",
    "    \"valor_total\": 3500.00\n",
    "})\n"
   ]
  },
  {
   "cell_type": "code",
   "execution_count": null,
   "id": "a0acd3f2",
   "metadata": {},
   "outputs": [],
   "source": [
    "'''\n",
    "Tambem bolei uma forma de usar um json pra inserir\n",
    "os dados de uma maneira diferente\n",
    "'''\n",
    "\n",
    "mercadoria = {\n",
    "    \"produto\": \"Notebook Dell\",\n",
    "    \"valor\": 3500.00,\n",
    "    \"estoque\": 15\n",
    "}\n",
    "\n",
    "cliente = {\n",
    "    \"nome\": \"Maria Silva\",\n",
    "    \"idade\": 28,\n",
    "    \"mercadorias_compradas\": [\"Notebook Dell\", \"Mouse Logitech\"],\n",
    "    \"valores_mercadorias\": [3500.00, 120.00]\n",
    "}\n",
    "\n",
    "\n",
    "venda = {\n",
    "    \"cliente\": \"Maria Silva\",\n",
    "    \"data\": datetime(2025, 9, 19, 12, 0, 0),\n",
    "    \"itens\": [\n",
    "        {\n",
    "            \"produto\": \"Notebook Dell\",\n",
    "            \"quantidade\": 1,\n",
    "            \"valor_unitario\": 3500.00\n",
    "        },\n",
    "        {\n",
    "            \"produto\": \"Mouse Logitech\",\n",
    "            \"quantidade\": 1,\n",
    "            \"valor_unitario\": 120.00\n",
    "        }\n",
    "    ],\n",
    "    \"valor_total\": 3620.00\n",
    "}\n",
    "\n",
    "db.mercadorias.insert_one(mercadoria)\n",
    "db.clientes.insert_one(cliente)\n",
    "db.vendas.insert_one(venda)"
   ]
  },
  {
   "cell_type": "code",
   "execution_count": null,
   "id": "3efb316c",
   "metadata": {},
   "outputs": [],
   "source": [
    "estoque = {\n",
    "    \"produto\": \"Notebook Dell\",\n",
    "    \"quantidade\": 15,\n",
    "    \"contem\": True\n",
    "}\n",
    "\n",
    "db.estoque.insert_one(estoque)"
   ]
  }
 ],
 "metadata": {
  "kernelspec": {
   "display_name": ".venv",
   "language": "python",
   "name": "python3"
  },
  "language_info": {
   "codemirror_mode": {
    "name": "ipython",
    "version": 3
   },
   "file_extension": ".py",
   "mimetype": "text/x-python",
   "name": "python",
   "nbconvert_exporter": "python",
   "pygments_lexer": "ipython3",
   "version": "3.13.7"
  }
 },
 "nbformat": 4,
 "nbformat_minor": 5
}
