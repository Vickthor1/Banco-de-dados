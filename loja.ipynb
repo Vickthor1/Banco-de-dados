{
 "cells": [
  {
   "cell_type": "code",
   "execution_count": 1,
   "id": "be916f88",
   "metadata": {},
   "outputs": [
    {
     "name": "stdout",
     "output_type": "stream",
     "text": [
      "Collecting pymongo\n",
      "  Downloading pymongo-4.15.1-cp313-cp313-win_amd64.whl.metadata (22 kB)\n",
      "Collecting dnspython<3.0.0,>=1.16.0 (from pymongo)\n",
      "  Downloading dnspython-2.8.0-py3-none-any.whl.metadata (5.7 kB)\n",
      "Downloading pymongo-4.15.1-cp313-cp313-win_amd64.whl (962 kB)\n",
      "   ---------------------------------------- 0.0/962.2 kB ? eta -:--:--\n",
      "   ---------------------------------------- 962.2/962.2 kB 6.2 MB/s  0:00:00\n",
      "Downloading dnspython-2.8.0-py3-none-any.whl (331 kB)\n",
      "Installing collected packages: dnspython, pymongo\n",
      "\n",
      "   ---------------------------------------- 0/2 [dnspython]\n",
      "   ---------------------------------------- 0/2 [dnspython]\n",
      "   ---------------------------------------- 0/2 [dnspython]\n",
      "   ---------------------------------------- 0/2 [dnspython]\n",
      "   ---------------------------------------- 0/2 [dnspython]\n",
      "   ---------------------------------------- 0/2 [dnspython]\n",
      "   ---------------------------------------- 0/2 [dnspython]\n",
      "   ---------------------------------------- 0/2 [dnspython]\n",
      "   ---------------------------------------- 0/2 [dnspython]\n",
      "   -------------------- ------------------- 1/2 [pymongo]\n",
      "   -------------------- ------------------- 1/2 [pymongo]\n",
      "   -------------------- ------------------- 1/2 [pymongo]\n",
      "   -------------------- ------------------- 1/2 [pymongo]\n",
      "   -------------------- ------------------- 1/2 [pymongo]\n",
      "   -------------------- ------------------- 1/2 [pymongo]\n",
      "   -------------------- ------------------- 1/2 [pymongo]\n",
      "   -------------------- ------------------- 1/2 [pymongo]\n",
      "   -------------------- ------------------- 1/2 [pymongo]\n",
      "   -------------------- ------------------- 1/2 [pymongo]\n",
      "   -------------------- ------------------- 1/2 [pymongo]\n",
      "   -------------------- ------------------- 1/2 [pymongo]\n",
      "   ---------------------------------------- 2/2 [pymongo]\n",
      "\n",
      "Successfully installed dnspython-2.8.0 pymongo-4.15.1\n"
     ]
    }
   ],
   "source": [
    "!pip install pymongo"
   ]
  },
  {
   "cell_type": "code",
   "execution_count": null,
   "id": "c355f83a",
   "metadata": {},
   "outputs": [
    {
     "name": "stdout",
     "output_type": "stream",
     "text": [
      "Banco de dados atual: loja\n"
     ]
    }
   ],
   "source": [
    "#ativar o Host local antes de efetuar os testes!\n",
    "from pymongo import MongoClient\n",
    "\n",
    "#pega a data e hora para colocar no documento\n",
    "from datetime import datetime\n",
    "\n",
    "#aqui é inserido o host\n",
    "client = MongoClient(\"mongodb://localhost:27017/\")\n",
    "\n",
    "#nome da biblioteca\n",
    "db = client[\"loja\"]\n",
    "\n",
    "print(f\"Banco de dados atual: {db.name}\")"
   ]
  },
  {
   "cell_type": "code",
   "execution_count": null,
   "id": "d1b03d97",
   "metadata": {},
   "outputs": [
    {
     "ename": "ServerSelectionTimeoutError",
     "evalue": "localhost27017:27017: [Errno 11001] getaddrinfo failed (configured timeouts: socketTimeoutMS: 20000.0ms, connectTimeoutMS: 20000.0ms), Timeout: 30s, Topology Description: <TopologyDescription id: 68cdda4071961e6f73490d7b, topology_type: Unknown, servers: [<ServerDescription ('localhost27017', 27017) server_type: Unknown, rtt: None, error=AutoReconnect('localhost27017:27017: [Errno 11001] getaddrinfo failed (configured timeouts: socketTimeoutMS: 20000.0ms, connectTimeoutMS: 20000.0ms)')>]>",
     "output_type": "error",
     "traceback": [
      "\u001b[31m---------------------------------------------------------------------------\u001b[39m",
      "\u001b[31mServerSelectionTimeoutError\u001b[39m               Traceback (most recent call last)",
      "\u001b[36mCell\u001b[39m\u001b[36m \u001b[39m\u001b[32mIn[13]\u001b[39m\u001b[32m, line 9\u001b[39m\n\u001b[32m      4\u001b[39m vendas = db[\u001b[33m\"\u001b[39m\u001b[33mvendas\u001b[39m\u001b[33m\"\u001b[39m]\n\u001b[32m      6\u001b[39m \u001b[38;5;66;03m# Inserir mercadorias de uma vez só\u001b[39;00m\n\u001b[32m      7\u001b[39m \n\u001b[32m      8\u001b[39m \u001b[38;5;66;03m# Inserir cliente de maneira unica\u001b[39;00m\n\u001b[32m----> \u001b[39m\u001b[32m9\u001b[39m \u001b[43mclientes\u001b[49m\u001b[43m.\u001b[49m\u001b[43minsert_one\u001b[49m\u001b[43m(\u001b[49m\u001b[43m{\u001b[49m\n\u001b[32m     10\u001b[39m \u001b[43m    \u001b[49m\u001b[33;43m\"\u001b[39;49m\u001b[33;43mnome\u001b[39;49m\u001b[33;43m\"\u001b[39;49m\u001b[43m:\u001b[49m\u001b[43m \u001b[49m\u001b[33;43m\"\u001b[39;49m\u001b[33;43mMaria Silva\u001b[39;49m\u001b[33;43m\"\u001b[39;49m\u001b[43m,\u001b[49m\n\u001b[32m     11\u001b[39m \u001b[43m    \u001b[49m\u001b[33;43m\"\u001b[39;49m\u001b[33;43midade\u001b[39;49m\u001b[33;43m\"\u001b[39;49m\u001b[43m:\u001b[49m\u001b[43m \u001b[49m\u001b[32;43m28\u001b[39;49m\u001b[43m,\u001b[49m\n\u001b[32m     12\u001b[39m \u001b[43m    \u001b[49m\u001b[33;43m\"\u001b[39;49m\u001b[33;43mmercadorias_compradas\u001b[39;49m\u001b[33;43m\"\u001b[39;49m\u001b[43m:\u001b[49m\u001b[43m \u001b[49m\u001b[43m[\u001b[49m\u001b[33;43m\"\u001b[39;49m\u001b[33;43mNotebook Dell\u001b[39;49m\u001b[33;43m\"\u001b[39;49m\u001b[43m]\u001b[49m\u001b[43m,\u001b[49m\n\u001b[32m     13\u001b[39m \u001b[43m    \u001b[49m\u001b[33;43m\"\u001b[39;49m\u001b[33;43mvalores_mercadorias\u001b[39;49m\u001b[33;43m\"\u001b[39;49m\u001b[43m:\u001b[49m\u001b[43m \u001b[49m\u001b[43m[\u001b[49m\u001b[32;43m3500.00\u001b[39;49m\u001b[43m]\u001b[49m\n\u001b[32m     14\u001b[39m \u001b[43m}\u001b[49m\u001b[43m)\u001b[49m\n\u001b[32m     16\u001b[39m \u001b[38;5;66;03m# Inserir venda (sem usar _id do cliente, pois ainda estou aprendendo a lidar)\u001b[39;00m\n\u001b[32m     17\u001b[39m vendas.insert_one({\n\u001b[32m     18\u001b[39m     \u001b[33m\"\u001b[39m\u001b[33mcliente\u001b[39m\u001b[33m\"\u001b[39m: \u001b[33m\"\u001b[39m\u001b[33mMaria Silva\u001b[39m\u001b[33m\"\u001b[39m,\n\u001b[32m     19\u001b[39m     \u001b[33m\"\u001b[39m\u001b[33mdata\u001b[39m\u001b[33m\"\u001b[39m: datetime.now(),\n\u001b[32m   (...)\u001b[39m\u001b[32m     23\u001b[39m     \u001b[33m\"\u001b[39m\u001b[33mvalor_total\u001b[39m\u001b[33m\"\u001b[39m: \u001b[32m3500.00\u001b[39m\n\u001b[32m     24\u001b[39m })\n",
      "\u001b[36mFile \u001b[39m\u001b[32mc:\\Users\\UNIVASSOURAS\\Documents\\teste\\.venv\\Lib\\site-packages\\pymongo\\synchronous\\collection.py:891\u001b[39m, in \u001b[36mCollection.insert_one\u001b[39m\u001b[34m(self, document, bypass_document_validation, session, comment)\u001b[39m\n\u001b[32m    887\u001b[39m     document[\u001b[33m\"\u001b[39m\u001b[33m_id\u001b[39m\u001b[33m\"\u001b[39m] = ObjectId()  \u001b[38;5;66;03m# type: ignore[index]\u001b[39;00m\n\u001b[32m    889\u001b[39m write_concern = \u001b[38;5;28mself\u001b[39m._write_concern_for(session)\n\u001b[32m    890\u001b[39m \u001b[38;5;28;01mreturn\u001b[39;00m InsertOneResult(\n\u001b[32m--> \u001b[39m\u001b[32m891\u001b[39m     \u001b[38;5;28;43mself\u001b[39;49m\u001b[43m.\u001b[49m\u001b[43m_insert_one\u001b[49m\u001b[43m(\u001b[49m\n\u001b[32m    892\u001b[39m \u001b[43m        \u001b[49m\u001b[43mdocument\u001b[49m\u001b[43m,\u001b[49m\n\u001b[32m    893\u001b[39m \u001b[43m        \u001b[49m\u001b[43mordered\u001b[49m\u001b[43m=\u001b[49m\u001b[38;5;28;43;01mTrue\u001b[39;49;00m\u001b[43m,\u001b[49m\n\u001b[32m    894\u001b[39m \u001b[43m        \u001b[49m\u001b[43mwrite_concern\u001b[49m\u001b[43m=\u001b[49m\u001b[43mwrite_concern\u001b[49m\u001b[43m,\u001b[49m\n\u001b[32m    895\u001b[39m \u001b[43m        \u001b[49m\u001b[43mop_id\u001b[49m\u001b[43m=\u001b[49m\u001b[38;5;28;43;01mNone\u001b[39;49;00m\u001b[43m,\u001b[49m\n\u001b[32m    896\u001b[39m \u001b[43m        \u001b[49m\u001b[43mbypass_doc_val\u001b[49m\u001b[43m=\u001b[49m\u001b[43mbypass_document_validation\u001b[49m\u001b[43m,\u001b[49m\n\u001b[32m    897\u001b[39m \u001b[43m        \u001b[49m\u001b[43msession\u001b[49m\u001b[43m=\u001b[49m\u001b[43msession\u001b[49m\u001b[43m,\u001b[49m\n\u001b[32m    898\u001b[39m \u001b[43m        \u001b[49m\u001b[43mcomment\u001b[49m\u001b[43m=\u001b[49m\u001b[43mcomment\u001b[49m\u001b[43m,\u001b[49m\n\u001b[32m    899\u001b[39m \u001b[43m    \u001b[49m\u001b[43m)\u001b[49m,\n\u001b[32m    900\u001b[39m     write_concern.acknowledged,\n\u001b[32m    901\u001b[39m )\n",
      "\u001b[36mFile \u001b[39m\u001b[32mc:\\Users\\UNIVASSOURAS\\Documents\\teste\\.venv\\Lib\\site-packages\\pymongo\\synchronous\\collection.py:831\u001b[39m, in \u001b[36mCollection._insert_one\u001b[39m\u001b[34m(self, doc, ordered, write_concern, op_id, bypass_doc_val, session, comment)\u001b[39m\n\u001b[32m    819\u001b[39m     result = conn.command(\n\u001b[32m    820\u001b[39m         \u001b[38;5;28mself\u001b[39m._database.name,\n\u001b[32m    821\u001b[39m         command,\n\u001b[32m   (...)\u001b[39m\u001b[32m    826\u001b[39m         retryable_write=retryable_write,\n\u001b[32m    827\u001b[39m     )\n\u001b[32m    829\u001b[39m     _check_write_command_response(result)\n\u001b[32m--> \u001b[39m\u001b[32m831\u001b[39m \u001b[38;5;28;43mself\u001b[39;49m\u001b[43m.\u001b[49m\u001b[43m_database\u001b[49m\u001b[43m.\u001b[49m\u001b[43mclient\u001b[49m\u001b[43m.\u001b[49m\u001b[43m_retryable_write\u001b[49m\u001b[43m(\u001b[49m\n\u001b[32m    832\u001b[39m \u001b[43m    \u001b[49m\u001b[43macknowledged\u001b[49m\u001b[43m,\u001b[49m\u001b[43m \u001b[49m\u001b[43m_insert_command\u001b[49m\u001b[43m,\u001b[49m\u001b[43m \u001b[49m\u001b[43msession\u001b[49m\u001b[43m,\u001b[49m\u001b[43m \u001b[49m\u001b[43moperation\u001b[49m\u001b[43m=\u001b[49m\u001b[43m_Op\u001b[49m\u001b[43m.\u001b[49m\u001b[43mINSERT\u001b[49m\n\u001b[32m    833\u001b[39m \u001b[43m\u001b[49m\u001b[43m)\u001b[49m\n\u001b[32m    835\u001b[39m \u001b[38;5;28;01mif\u001b[39;00m \u001b[38;5;129;01mnot\u001b[39;00m \u001b[38;5;28misinstance\u001b[39m(doc, RawBSONDocument):\n\u001b[32m    836\u001b[39m     \u001b[38;5;28;01mreturn\u001b[39;00m doc.get(\u001b[33m\"\u001b[39m\u001b[33m_id\u001b[39m\u001b[33m\"\u001b[39m)\n",
      "\u001b[36mFile \u001b[39m\u001b[32mc:\\Users\\UNIVASSOURAS\\Documents\\teste\\.venv\\Lib\\site-packages\\pymongo\\synchronous\\mongo_client.py:2082\u001b[39m, in \u001b[36mMongoClient._retryable_write\u001b[39m\u001b[34m(self, retryable, func, session, operation, bulk, operation_id)\u001b[39m\n\u001b[32m   2068\u001b[39m \u001b[38;5;250m\u001b[39m\u001b[33;03m\"\"\"Execute an operation with consecutive retries if possible\u001b[39;00m\n\u001b[32m   2069\u001b[39m \n\u001b[32m   2070\u001b[39m \u001b[33;03mReturns func()'s return value on success. On error retries the same\u001b[39;00m\n\u001b[32m   (...)\u001b[39m\u001b[32m   2079\u001b[39m \u001b[33;03m:param bulk: bulk abstraction to execute operations in bulk, defaults to None\u001b[39;00m\n\u001b[32m   2080\u001b[39m \u001b[33;03m\"\"\"\u001b[39;00m\n\u001b[32m   2081\u001b[39m \u001b[38;5;28;01mwith\u001b[39;00m \u001b[38;5;28mself\u001b[39m._tmp_session(session) \u001b[38;5;28;01mas\u001b[39;00m s:\n\u001b[32m-> \u001b[39m\u001b[32m2082\u001b[39m     \u001b[38;5;28;01mreturn\u001b[39;00m \u001b[38;5;28;43mself\u001b[39;49m\u001b[43m.\u001b[49m\u001b[43m_retry_with_session\u001b[49m\u001b[43m(\u001b[49m\u001b[43mretryable\u001b[49m\u001b[43m,\u001b[49m\u001b[43m \u001b[49m\u001b[43mfunc\u001b[49m\u001b[43m,\u001b[49m\u001b[43m \u001b[49m\u001b[43ms\u001b[49m\u001b[43m,\u001b[49m\u001b[43m \u001b[49m\u001b[43mbulk\u001b[49m\u001b[43m,\u001b[49m\u001b[43m \u001b[49m\u001b[43moperation\u001b[49m\u001b[43m,\u001b[49m\u001b[43m \u001b[49m\u001b[43moperation_id\u001b[49m\u001b[43m)\u001b[49m\n",
      "\u001b[36mFile \u001b[39m\u001b[32mc:\\Users\\UNIVASSOURAS\\Documents\\teste\\.venv\\Lib\\site-packages\\pymongo\\synchronous\\mongo_client.py:1968\u001b[39m, in \u001b[36mMongoClient._retry_with_session\u001b[39m\u001b[34m(self, retryable, func, session, bulk, operation, operation_id)\u001b[39m\n\u001b[32m   1963\u001b[39m \u001b[38;5;66;03m# Ensure that the options supports retry_writes and there is a valid session not in\u001b[39;00m\n\u001b[32m   1964\u001b[39m \u001b[38;5;66;03m# transaction, otherwise, we will not support retry behavior for this txn.\u001b[39;00m\n\u001b[32m   1965\u001b[39m retryable = \u001b[38;5;28mbool\u001b[39m(\n\u001b[32m   1966\u001b[39m     retryable \u001b[38;5;129;01mand\u001b[39;00m \u001b[38;5;28mself\u001b[39m.options.retry_writes \u001b[38;5;129;01mand\u001b[39;00m session \u001b[38;5;129;01mand\u001b[39;00m \u001b[38;5;129;01mnot\u001b[39;00m session.in_transaction\n\u001b[32m   1967\u001b[39m )\n\u001b[32m-> \u001b[39m\u001b[32m1968\u001b[39m \u001b[38;5;28;01mreturn\u001b[39;00m \u001b[38;5;28;43mself\u001b[39;49m\u001b[43m.\u001b[49m\u001b[43m_retry_internal\u001b[49m\u001b[43m(\u001b[49m\n\u001b[32m   1969\u001b[39m \u001b[43m    \u001b[49m\u001b[43mfunc\u001b[49m\u001b[43m=\u001b[49m\u001b[43mfunc\u001b[49m\u001b[43m,\u001b[49m\n\u001b[32m   1970\u001b[39m \u001b[43m    \u001b[49m\u001b[43msession\u001b[49m\u001b[43m=\u001b[49m\u001b[43msession\u001b[49m\u001b[43m,\u001b[49m\n\u001b[32m   1971\u001b[39m \u001b[43m    \u001b[49m\u001b[43mbulk\u001b[49m\u001b[43m=\u001b[49m\u001b[43mbulk\u001b[49m\u001b[43m,\u001b[49m\n\u001b[32m   1972\u001b[39m \u001b[43m    \u001b[49m\u001b[43moperation\u001b[49m\u001b[43m=\u001b[49m\u001b[43moperation\u001b[49m\u001b[43m,\u001b[49m\n\u001b[32m   1973\u001b[39m \u001b[43m    \u001b[49m\u001b[43mretryable\u001b[49m\u001b[43m=\u001b[49m\u001b[43mretryable\u001b[49m\u001b[43m,\u001b[49m\n\u001b[32m   1974\u001b[39m \u001b[43m    \u001b[49m\u001b[43moperation_id\u001b[49m\u001b[43m=\u001b[49m\u001b[43moperation_id\u001b[49m\u001b[43m,\u001b[49m\n\u001b[32m   1975\u001b[39m \u001b[43m\u001b[49m\u001b[43m)\u001b[49m\n",
      "\u001b[36mFile \u001b[39m\u001b[32mc:\\Users\\UNIVASSOURAS\\Documents\\teste\\.venv\\Lib\\site-packages\\pymongo\\_csot.py:125\u001b[39m, in \u001b[36mapply.<locals>.csot_wrapper\u001b[39m\u001b[34m(self, *args, **kwargs)\u001b[39m\n\u001b[32m    123\u001b[39m         \u001b[38;5;28;01mwith\u001b[39;00m _TimeoutContext(timeout):\n\u001b[32m    124\u001b[39m             \u001b[38;5;28;01mreturn\u001b[39;00m func(\u001b[38;5;28mself\u001b[39m, *args, **kwargs)\n\u001b[32m--> \u001b[39m\u001b[32m125\u001b[39m \u001b[38;5;28;01mreturn\u001b[39;00m \u001b[43mfunc\u001b[49m\u001b[43m(\u001b[49m\u001b[38;5;28;43mself\u001b[39;49m\u001b[43m,\u001b[49m\u001b[43m \u001b[49m\u001b[43m*\u001b[49m\u001b[43margs\u001b[49m\u001b[43m,\u001b[49m\u001b[43m \u001b[49m\u001b[43m*\u001b[49m\u001b[43m*\u001b[49m\u001b[43mkwargs\u001b[49m\u001b[43m)\u001b[49m\n",
      "\u001b[36mFile \u001b[39m\u001b[32mc:\\Users\\UNIVASSOURAS\\Documents\\teste\\.venv\\Lib\\site-packages\\pymongo\\synchronous\\mongo_client.py:2014\u001b[39m, in \u001b[36mMongoClient._retry_internal\u001b[39m\u001b[34m(self, func, session, bulk, operation, is_read, address, read_pref, retryable, operation_id)\u001b[39m\n\u001b[32m   1977\u001b[39m \u001b[38;5;129m@_csot\u001b[39m.apply\n\u001b[32m   1978\u001b[39m \u001b[38;5;28;01mdef\u001b[39;00m\u001b[38;5;250m \u001b[39m\u001b[34m_retry_internal\u001b[39m(\n\u001b[32m   1979\u001b[39m     \u001b[38;5;28mself\u001b[39m,\n\u001b[32m   (...)\u001b[39m\u001b[32m   1988\u001b[39m     operation_id: Optional[\u001b[38;5;28mint\u001b[39m] = \u001b[38;5;28;01mNone\u001b[39;00m,\n\u001b[32m   1989\u001b[39m ) -> T:\n\u001b[32m   1990\u001b[39m \u001b[38;5;250m    \u001b[39m\u001b[33;03m\"\"\"Internal retryable helper for all client transactions.\u001b[39;00m\n\u001b[32m   1991\u001b[39m \n\u001b[32m   1992\u001b[39m \u001b[33;03m    :param func: Callback function we want to retry\u001b[39;00m\n\u001b[32m   (...)\u001b[39m\u001b[32m   2001\u001b[39m \u001b[33;03m    :return: Output of the calling func()\u001b[39;00m\n\u001b[32m   2002\u001b[39m \u001b[33;03m    \"\"\"\u001b[39;00m\n\u001b[32m   2003\u001b[39m     \u001b[38;5;28;01mreturn\u001b[39;00m \u001b[43m_ClientConnectionRetryable\u001b[49m\u001b[43m(\u001b[49m\n\u001b[32m   2004\u001b[39m \u001b[43m        \u001b[49m\u001b[43mmongo_client\u001b[49m\u001b[43m=\u001b[49m\u001b[38;5;28;43mself\u001b[39;49m\u001b[43m,\u001b[49m\n\u001b[32m   2005\u001b[39m \u001b[43m        \u001b[49m\u001b[43mfunc\u001b[49m\u001b[43m=\u001b[49m\u001b[43mfunc\u001b[49m\u001b[43m,\u001b[49m\n\u001b[32m   2006\u001b[39m \u001b[43m        \u001b[49m\u001b[43mbulk\u001b[49m\u001b[43m=\u001b[49m\u001b[43mbulk\u001b[49m\u001b[43m,\u001b[49m\n\u001b[32m   2007\u001b[39m \u001b[43m        \u001b[49m\u001b[43moperation\u001b[49m\u001b[43m=\u001b[49m\u001b[43moperation\u001b[49m\u001b[43m,\u001b[49m\n\u001b[32m   2008\u001b[39m \u001b[43m        \u001b[49m\u001b[43mis_read\u001b[49m\u001b[43m=\u001b[49m\u001b[43mis_read\u001b[49m\u001b[43m,\u001b[49m\n\u001b[32m   2009\u001b[39m \u001b[43m        \u001b[49m\u001b[43msession\u001b[49m\u001b[43m=\u001b[49m\u001b[43msession\u001b[49m\u001b[43m,\u001b[49m\n\u001b[32m   2010\u001b[39m \u001b[43m        \u001b[49m\u001b[43mread_pref\u001b[49m\u001b[43m=\u001b[49m\u001b[43mread_pref\u001b[49m\u001b[43m,\u001b[49m\n\u001b[32m   2011\u001b[39m \u001b[43m        \u001b[49m\u001b[43maddress\u001b[49m\u001b[43m=\u001b[49m\u001b[43maddress\u001b[49m\u001b[43m,\u001b[49m\n\u001b[32m   2012\u001b[39m \u001b[43m        \u001b[49m\u001b[43mretryable\u001b[49m\u001b[43m=\u001b[49m\u001b[43mretryable\u001b[49m\u001b[43m,\u001b[49m\n\u001b[32m   2013\u001b[39m \u001b[43m        \u001b[49m\u001b[43moperation_id\u001b[49m\u001b[43m=\u001b[49m\u001b[43moperation_id\u001b[49m\u001b[43m,\u001b[49m\n\u001b[32m-> \u001b[39m\u001b[32m2014\u001b[39m \u001b[43m    \u001b[49m\u001b[43m)\u001b[49m\u001b[43m.\u001b[49m\u001b[43mrun\u001b[49m\u001b[43m(\u001b[49m\u001b[43m)\u001b[49m\n",
      "\u001b[36mFile \u001b[39m\u001b[32mc:\\Users\\UNIVASSOURAS\\Documents\\teste\\.venv\\Lib\\site-packages\\pymongo\\synchronous\\mongo_client.py:2765\u001b[39m, in \u001b[36m_ClientConnectionRetryable.run\u001b[39m\u001b[34m(self)\u001b[39m\n\u001b[32m   2763\u001b[39m \u001b[38;5;28mself\u001b[39m._check_last_error(check_csot=\u001b[38;5;28;01mTrue\u001b[39;00m)\n\u001b[32m   2764\u001b[39m \u001b[38;5;28;01mtry\u001b[39;00m:\n\u001b[32m-> \u001b[39m\u001b[32m2765\u001b[39m     \u001b[38;5;28;01mreturn\u001b[39;00m \u001b[38;5;28mself\u001b[39m._read() \u001b[38;5;28;01mif\u001b[39;00m \u001b[38;5;28mself\u001b[39m._is_read \u001b[38;5;28;01melse\u001b[39;00m \u001b[38;5;28;43mself\u001b[39;49m\u001b[43m.\u001b[49m\u001b[43m_write\u001b[49m\u001b[43m(\u001b[49m\u001b[43m)\u001b[49m\n\u001b[32m   2766\u001b[39m \u001b[38;5;28;01mexcept\u001b[39;00m ServerSelectionTimeoutError:\n\u001b[32m   2767\u001b[39m     \u001b[38;5;66;03m# The application may think the write was never attempted\u001b[39;00m\n\u001b[32m   2768\u001b[39m     \u001b[38;5;66;03m# if we raise ServerSelectionTimeoutError on the retry\u001b[39;00m\n\u001b[32m   2769\u001b[39m     \u001b[38;5;66;03m# attempt. Raise the original exception instead.\u001b[39;00m\n\u001b[32m   2770\u001b[39m     \u001b[38;5;28mself\u001b[39m._check_last_error()\n",
      "\u001b[36mFile \u001b[39m\u001b[32mc:\\Users\\UNIVASSOURAS\\Documents\\teste\\.venv\\Lib\\site-packages\\pymongo\\synchronous\\mongo_client.py:2875\u001b[39m, in \u001b[36m_ClientConnectionRetryable._write\u001b[39m\u001b[34m(self)\u001b[39m\n\u001b[32m   2873\u001b[39m max_wire_version = \u001b[32m0\u001b[39m\n\u001b[32m   2874\u001b[39m is_mongos = \u001b[38;5;28;01mFalse\u001b[39;00m\n\u001b[32m-> \u001b[39m\u001b[32m2875\u001b[39m \u001b[38;5;28mself\u001b[39m._server = \u001b[38;5;28;43mself\u001b[39;49m\u001b[43m.\u001b[49m\u001b[43m_get_server\u001b[49m\u001b[43m(\u001b[49m\u001b[43m)\u001b[49m\n\u001b[32m   2876\u001b[39m \u001b[38;5;28;01mwith\u001b[39;00m \u001b[38;5;28mself\u001b[39m._client._checkout(\u001b[38;5;28mself\u001b[39m._server, \u001b[38;5;28mself\u001b[39m._session) \u001b[38;5;28;01mas\u001b[39;00m conn:\n\u001b[32m   2877\u001b[39m     max_wire_version = conn.max_wire_version\n",
      "\u001b[36mFile \u001b[39m\u001b[32mc:\\Users\\UNIVASSOURAS\\Documents\\teste\\.venv\\Lib\\site-packages\\pymongo\\synchronous\\mongo_client.py:2858\u001b[39m, in \u001b[36m_ClientConnectionRetryable._get_server\u001b[39m\u001b[34m(self)\u001b[39m\n\u001b[32m   2853\u001b[39m \u001b[38;5;28;01mdef\u001b[39;00m\u001b[38;5;250m \u001b[39m\u001b[34m_get_server\u001b[39m(\u001b[38;5;28mself\u001b[39m) -> Server:\n\u001b[32m   2854\u001b[39m \u001b[38;5;250m    \u001b[39m\u001b[33;03m\"\"\"Retrieves a server object based on provided object context\u001b[39;00m\n\u001b[32m   2855\u001b[39m \n\u001b[32m   2856\u001b[39m \u001b[33;03m    :return: Abstraction to connect to server\u001b[39;00m\n\u001b[32m   2857\u001b[39m \u001b[33;03m    \"\"\"\u001b[39;00m\n\u001b[32m-> \u001b[39m\u001b[32m2858\u001b[39m     \u001b[38;5;28;01mreturn\u001b[39;00m \u001b[38;5;28;43mself\u001b[39;49m\u001b[43m.\u001b[49m\u001b[43m_client\u001b[49m\u001b[43m.\u001b[49m\u001b[43m_select_server\u001b[49m\u001b[43m(\u001b[49m\n\u001b[32m   2859\u001b[39m \u001b[43m        \u001b[49m\u001b[38;5;28;43mself\u001b[39;49m\u001b[43m.\u001b[49m\u001b[43m_server_selector\u001b[49m\u001b[43m,\u001b[49m\n\u001b[32m   2860\u001b[39m \u001b[43m        \u001b[49m\u001b[38;5;28;43mself\u001b[39;49m\u001b[43m.\u001b[49m\u001b[43m_session\u001b[49m\u001b[43m,\u001b[49m\n\u001b[32m   2861\u001b[39m \u001b[43m        \u001b[49m\u001b[38;5;28;43mself\u001b[39;49m\u001b[43m.\u001b[49m\u001b[43m_operation\u001b[49m\u001b[43m,\u001b[49m\n\u001b[32m   2862\u001b[39m \u001b[43m        \u001b[49m\u001b[43maddress\u001b[49m\u001b[43m=\u001b[49m\u001b[38;5;28;43mself\u001b[39;49m\u001b[43m.\u001b[49m\u001b[43m_address\u001b[49m\u001b[43m,\u001b[49m\n\u001b[32m   2863\u001b[39m \u001b[43m        \u001b[49m\u001b[43mdeprioritized_servers\u001b[49m\u001b[43m=\u001b[49m\u001b[38;5;28;43mself\u001b[39;49m\u001b[43m.\u001b[49m\u001b[43m_deprioritized_servers\u001b[49m\u001b[43m,\u001b[49m\n\u001b[32m   2864\u001b[39m \u001b[43m        \u001b[49m\u001b[43moperation_id\u001b[49m\u001b[43m=\u001b[49m\u001b[38;5;28;43mself\u001b[39;49m\u001b[43m.\u001b[49m\u001b[43m_operation_id\u001b[49m\u001b[43m,\u001b[49m\n\u001b[32m   2865\u001b[39m \u001b[43m    \u001b[49m\u001b[43m)\u001b[49m\n",
      "\u001b[36mFile \u001b[39m\u001b[32mc:\\Users\\UNIVASSOURAS\\Documents\\teste\\.venv\\Lib\\site-packages\\pymongo\\synchronous\\mongo_client.py:1833\u001b[39m, in \u001b[36mMongoClient._select_server\u001b[39m\u001b[34m(self, server_selector, session, operation, address, deprioritized_servers, operation_id)\u001b[39m\n\u001b[32m   1831\u001b[39m             \u001b[38;5;28;01mraise\u001b[39;00m AutoReconnect(\u001b[33m\"\u001b[39m\u001b[33mserver \u001b[39m\u001b[38;5;132;01m%s\u001b[39;00m\u001b[33m:\u001b[39m\u001b[38;5;132;01m%s\u001b[39;00m\u001b[33m no longer available\u001b[39m\u001b[33m\"\u001b[39m % address)  \u001b[38;5;66;03m# noqa: UP031\u001b[39;00m\n\u001b[32m   1832\u001b[39m     \u001b[38;5;28;01melse\u001b[39;00m:\n\u001b[32m-> \u001b[39m\u001b[32m1833\u001b[39m         server = \u001b[43mtopology\u001b[49m\u001b[43m.\u001b[49m\u001b[43mselect_server\u001b[49m\u001b[43m(\u001b[49m\n\u001b[32m   1834\u001b[39m \u001b[43m            \u001b[49m\u001b[43mserver_selector\u001b[49m\u001b[43m,\u001b[49m\n\u001b[32m   1835\u001b[39m \u001b[43m            \u001b[49m\u001b[43moperation\u001b[49m\u001b[43m,\u001b[49m\n\u001b[32m   1836\u001b[39m \u001b[43m            \u001b[49m\u001b[43mdeprioritized_servers\u001b[49m\u001b[43m=\u001b[49m\u001b[43mdeprioritized_servers\u001b[49m\u001b[43m,\u001b[49m\n\u001b[32m   1837\u001b[39m \u001b[43m            \u001b[49m\u001b[43moperation_id\u001b[49m\u001b[43m=\u001b[49m\u001b[43moperation_id\u001b[49m\u001b[43m,\u001b[49m\n\u001b[32m   1838\u001b[39m \u001b[43m        \u001b[49m\u001b[43m)\u001b[49m\n\u001b[32m   1839\u001b[39m     \u001b[38;5;28;01mreturn\u001b[39;00m server\n\u001b[32m   1840\u001b[39m \u001b[38;5;28;01mexcept\u001b[39;00m PyMongoError \u001b[38;5;28;01mas\u001b[39;00m exc:\n\u001b[32m   1841\u001b[39m     \u001b[38;5;66;03m# Server selection errors in a transaction are transient.\u001b[39;00m\n",
      "\u001b[36mFile \u001b[39m\u001b[32mc:\\Users\\UNIVASSOURAS\\Documents\\teste\\.venv\\Lib\\site-packages\\pymongo\\synchronous\\topology.py:409\u001b[39m, in \u001b[36mTopology.select_server\u001b[39m\u001b[34m(self, selector, operation, server_selection_timeout, address, deprioritized_servers, operation_id)\u001b[39m\n\u001b[32m    399\u001b[39m \u001b[38;5;28;01mdef\u001b[39;00m\u001b[38;5;250m \u001b[39m\u001b[34mselect_server\u001b[39m(\n\u001b[32m    400\u001b[39m     \u001b[38;5;28mself\u001b[39m,\n\u001b[32m    401\u001b[39m     selector: Callable[[Selection], Selection],\n\u001b[32m   (...)\u001b[39m\u001b[32m    406\u001b[39m     operation_id: Optional[\u001b[38;5;28mint\u001b[39m] = \u001b[38;5;28;01mNone\u001b[39;00m,\n\u001b[32m    407\u001b[39m ) -> Server:\n\u001b[32m    408\u001b[39m \u001b[38;5;250m    \u001b[39m\u001b[33;03m\"\"\"Like select_servers, but choose a random server if several match.\"\"\"\u001b[39;00m\n\u001b[32m--> \u001b[39m\u001b[32m409\u001b[39m     server = \u001b[38;5;28;43mself\u001b[39;49m\u001b[43m.\u001b[49m\u001b[43m_select_server\u001b[49m\u001b[43m(\u001b[49m\n\u001b[32m    410\u001b[39m \u001b[43m        \u001b[49m\u001b[43mselector\u001b[49m\u001b[43m,\u001b[49m\n\u001b[32m    411\u001b[39m \u001b[43m        \u001b[49m\u001b[43moperation\u001b[49m\u001b[43m,\u001b[49m\n\u001b[32m    412\u001b[39m \u001b[43m        \u001b[49m\u001b[43mserver_selection_timeout\u001b[49m\u001b[43m,\u001b[49m\n\u001b[32m    413\u001b[39m \u001b[43m        \u001b[49m\u001b[43maddress\u001b[49m\u001b[43m,\u001b[49m\n\u001b[32m    414\u001b[39m \u001b[43m        \u001b[49m\u001b[43mdeprioritized_servers\u001b[49m\u001b[43m,\u001b[49m\n\u001b[32m    415\u001b[39m \u001b[43m        \u001b[49m\u001b[43moperation_id\u001b[49m\u001b[43m=\u001b[49m\u001b[43moperation_id\u001b[49m\u001b[43m,\u001b[49m\n\u001b[32m    416\u001b[39m \u001b[43m    \u001b[49m\u001b[43m)\u001b[49m\n\u001b[32m    417\u001b[39m     \u001b[38;5;28;01mif\u001b[39;00m _csot.get_timeout():\n\u001b[32m    418\u001b[39m         _csot.set_rtt(server.description.min_round_trip_time)\n",
      "\u001b[36mFile \u001b[39m\u001b[32mc:\\Users\\UNIVASSOURAS\\Documents\\teste\\.venv\\Lib\\site-packages\\pymongo\\synchronous\\topology.py:387\u001b[39m, in \u001b[36mTopology._select_server\u001b[39m\u001b[34m(self, selector, operation, server_selection_timeout, address, deprioritized_servers, operation_id)\u001b[39m\n\u001b[32m    378\u001b[39m \u001b[38;5;28;01mdef\u001b[39;00m\u001b[38;5;250m \u001b[39m\u001b[34m_select_server\u001b[39m(\n\u001b[32m    379\u001b[39m     \u001b[38;5;28mself\u001b[39m,\n\u001b[32m    380\u001b[39m     selector: Callable[[Selection], Selection],\n\u001b[32m   (...)\u001b[39m\u001b[32m    385\u001b[39m     operation_id: Optional[\u001b[38;5;28mint\u001b[39m] = \u001b[38;5;28;01mNone\u001b[39;00m,\n\u001b[32m    386\u001b[39m ) -> Server:\n\u001b[32m--> \u001b[39m\u001b[32m387\u001b[39m     servers = \u001b[38;5;28;43mself\u001b[39;49m\u001b[43m.\u001b[49m\u001b[43mselect_servers\u001b[49m\u001b[43m(\u001b[49m\n\u001b[32m    388\u001b[39m \u001b[43m        \u001b[49m\u001b[43mselector\u001b[49m\u001b[43m,\u001b[49m\u001b[43m \u001b[49m\u001b[43moperation\u001b[49m\u001b[43m,\u001b[49m\u001b[43m \u001b[49m\u001b[43mserver_selection_timeout\u001b[49m\u001b[43m,\u001b[49m\u001b[43m \u001b[49m\u001b[43maddress\u001b[49m\u001b[43m,\u001b[49m\u001b[43m \u001b[49m\u001b[43moperation_id\u001b[49m\n\u001b[32m    389\u001b[39m \u001b[43m    \u001b[49m\u001b[43m)\u001b[49m\n\u001b[32m    390\u001b[39m     servers = _filter_servers(servers, deprioritized_servers)\n\u001b[32m    391\u001b[39m     \u001b[38;5;28;01mif\u001b[39;00m \u001b[38;5;28mlen\u001b[39m(servers) == \u001b[32m1\u001b[39m:\n",
      "\u001b[36mFile \u001b[39m\u001b[32mc:\\Users\\UNIVASSOURAS\\Documents\\teste\\.venv\\Lib\\site-packages\\pymongo\\synchronous\\topology.py:294\u001b[39m, in \u001b[36mTopology.select_servers\u001b[39m\u001b[34m(self, selector, operation, server_selection_timeout, address, operation_id)\u001b[39m\n\u001b[32m    291\u001b[39m     \u001b[38;5;28mself\u001b[39m.cleanup_monitors()\n\u001b[32m    293\u001b[39m \u001b[38;5;28;01mwith\u001b[39;00m \u001b[38;5;28mself\u001b[39m._lock:\n\u001b[32m--> \u001b[39m\u001b[32m294\u001b[39m     server_descriptions = \u001b[38;5;28;43mself\u001b[39;49m\u001b[43m.\u001b[49m\u001b[43m_select_servers_loop\u001b[49m\u001b[43m(\u001b[49m\n\u001b[32m    295\u001b[39m \u001b[43m        \u001b[49m\u001b[43mselector\u001b[49m\u001b[43m,\u001b[49m\u001b[43m \u001b[49m\u001b[43mserver_timeout\u001b[49m\u001b[43m,\u001b[49m\u001b[43m \u001b[49m\u001b[43moperation\u001b[49m\u001b[43m,\u001b[49m\u001b[43m \u001b[49m\u001b[43moperation_id\u001b[49m\u001b[43m,\u001b[49m\u001b[43m \u001b[49m\u001b[43maddress\u001b[49m\n\u001b[32m    296\u001b[39m \u001b[43m    \u001b[49m\u001b[43m)\u001b[49m\n\u001b[32m    298\u001b[39m     \u001b[38;5;28;01mreturn\u001b[39;00m [\n\u001b[32m    299\u001b[39m         cast(Server, \u001b[38;5;28mself\u001b[39m.get_server_by_address(sd.address)) \u001b[38;5;28;01mfor\u001b[39;00m sd \u001b[38;5;129;01min\u001b[39;00m server_descriptions\n\u001b[32m    300\u001b[39m     ]\n",
      "\u001b[36mFile \u001b[39m\u001b[32mc:\\Users\\UNIVASSOURAS\\Documents\\teste\\.venv\\Lib\\site-packages\\pymongo\\synchronous\\topology.py:344\u001b[39m, in \u001b[36mTopology._select_servers_loop\u001b[39m\u001b[34m(self, selector, timeout, operation, operation_id, address)\u001b[39m\n\u001b[32m    333\u001b[39m     \u001b[38;5;28;01mif\u001b[39;00m _SERVER_SELECTION_LOGGER.isEnabledFor(logging.DEBUG):\n\u001b[32m    334\u001b[39m         _debug_log(\n\u001b[32m    335\u001b[39m             _SERVER_SELECTION_LOGGER,\n\u001b[32m    336\u001b[39m             message=_ServerSelectionStatusMessage.FAILED,\n\u001b[32m   (...)\u001b[39m\u001b[32m    342\u001b[39m             failure=\u001b[38;5;28mself\u001b[39m._error_message(selector),\n\u001b[32m    343\u001b[39m         )\n\u001b[32m--> \u001b[39m\u001b[32m344\u001b[39m     \u001b[38;5;28;01mraise\u001b[39;00m ServerSelectionTimeoutError(\n\u001b[32m    345\u001b[39m         \u001b[33mf\u001b[39m\u001b[33m\"\u001b[39m\u001b[38;5;132;01m{\u001b[39;00m\u001b[38;5;28mself\u001b[39m._error_message(selector)\u001b[38;5;132;01m}\u001b[39;00m\u001b[33m, Timeout: \u001b[39m\u001b[38;5;132;01m{\u001b[39;00mtimeout\u001b[38;5;132;01m}\u001b[39;00m\u001b[33ms, Topology Description: \u001b[39m\u001b[38;5;132;01m{\u001b[39;00m\u001b[38;5;28mself\u001b[39m.description\u001b[38;5;132;01m!r}\u001b[39;00m\u001b[33m\"\u001b[39m\n\u001b[32m    346\u001b[39m     )\n\u001b[32m    348\u001b[39m \u001b[38;5;28;01mif\u001b[39;00m \u001b[38;5;129;01mnot\u001b[39;00m logged_waiting:\n\u001b[32m    349\u001b[39m     _debug_log(\n\u001b[32m    350\u001b[39m         _SERVER_SELECTION_LOGGER,\n\u001b[32m    351\u001b[39m         message=_ServerSelectionStatusMessage.WAITING,\n\u001b[32m   (...)\u001b[39m\u001b[32m    357\u001b[39m         remainingTimeMS=\u001b[38;5;28mint\u001b[39m(\u001b[32m1000\u001b[39m * (end_time - time.monotonic())),\n\u001b[32m    358\u001b[39m     )\n",
      "\u001b[31mServerSelectionTimeoutError\u001b[39m: localhost27017:27017: [Errno 11001] getaddrinfo failed (configured timeouts: socketTimeoutMS: 20000.0ms, connectTimeoutMS: 20000.0ms), Timeout: 30s, Topology Description: <TopologyDescription id: 68cdda4071961e6f73490d7b, topology_type: Unknown, servers: [<ServerDescription ('localhost27017', 27017) server_type: Unknown, rtt: None, error=AutoReconnect('localhost27017:27017: [Errno 11001] getaddrinfo failed (configured timeouts: socketTimeoutMS: 20000.0ms, connectTimeoutMS: 20000.0ms)')>]>"
     ]
    }
   ],
   "source": [
    "# Coleções\n",
    "mercadorias = db[\"mercadorias\"]\n",
    "clientes = db[\"clientes\"]\n",
    "vendas = db[\"vendas\"]\n",
    "\n",
    "# Inserir mercadorias de uma vez só\n",
    "mercadorias.insert_many([\n",
    "    { \"produto\": \"Notebook Dell\", \"valor\": 3500.00, \"estoque\": 15 },\n",
    "    { \"produto\": \"Mouse Logitech\", \"valor\": 120.00, \"estoque\": 50 },\n",
    "    { \"produto\": \"Teclado Mecânico\", \"valor\": 250.00, \"estoque\": 30 }\n",
    "])\n",
    "\n",
    "# Inserir cliente de maneira unica\n",
    "clientes.insert_one({\n",
    "    \"nome\": \"Maria Silva\",\n",
    "    \"idade\": 28,\n",
    "    \"mercadorias_compradas\": [\"Notebook Dell\"],\n",
    "    \"valores_mercadorias\": [3500.00]\n",
    "})\n",
    "\n",
    "# Inserir venda (sem usar _id do cliente, pois ainda estou aprendendo a lidar)\n",
    "vendas.insert_one({\n",
    "    \"cliente\": \"Maria Silva\",\n",
    "    \"data\": datetime.now(),\n",
    "    \"itens\": [\n",
    "        { \"produto\": \"Notebook Dell\", \"quantidade\": 1, \"valor_unitario\": 3500.00 }\n",
    "    ],\n",
    "    \"valor_total\": 3500.00\n",
    "})\n"
   ]
  },
  {
   "cell_type": "code",
   "execution_count": null,
   "id": "a0acd3f2",
   "metadata": {},
   "outputs": [],
   "source": [
    "'''\n",
    "Tambem bolei uma forma de usar um json pra inserir\n",
    "os dados de uma maneira diferente\n",
    "'''\n",
    "\n",
    "mercadoria = {\n",
    "    \"produto\": \"Notebook Dell\",\n",
    "    \"valor\": 3500.00,\n",
    "    \"estoque\": 15\n",
    "}\n",
    "\n",
    "cliente = {\n",
    "    \"nome\": \"Maria Silva\",\n",
    "    \"idade\": 28,\n",
    "    \"mercadorias_compradas\": [\"Notebook Dell\", \"Mouse Logitech\"],\n",
    "    \"valores_mercadorias\": [3500.00, 120.00]\n",
    "}\n",
    "\n",
    "\n",
    "venda = {\n",
    "    \"cliente\": \"Maria Silva\",\n",
    "    \"data\": datetime(2025, 9, 19, 12, 0, 0),\n",
    "    \"itens\": [\n",
    "        {\n",
    "            \"produto\": \"Notebook Dell\",\n",
    "            \"quantidade\": 1,\n",
    "            \"valor_unitario\": 3500.00\n",
    "        },\n",
    "        {\n",
    "            \"produto\": \"Mouse Logitech\",\n",
    "            \"quantidade\": 1,\n",
    "            \"valor_unitario\": 120.00\n",
    "        }\n",
    "    ],\n",
    "    \"valor_total\": 3620.00\n",
    "}\n",
    "\n",
    "db.mercadorias.insert_one(mercadoria)\n",
    "db.clientes.insert_one(cliente)\n",
    "db.vendas.insert_one(venda)"
   ]
  },
  {
   "cell_type": "code",
   "execution_count": null,
   "id": "3efb316c",
   "metadata": {},
   "outputs": [],
   "source": [
    "estoque = {\n",
    "    \"produto\": \"Notebook Dell\",\n",
    "    \"quantidade\": 15,\n",
    "    \"contem\": True\n",
    "}\n",
    "\n",
    "db.estoque.insert_one(estoque)"
   ]
  }
 ],
 "metadata": {
  "kernelspec": {
   "display_name": ".venv",
   "language": "python",
   "name": "python3"
  },
  "language_info": {
   "codemirror_mode": {
    "name": "ipython",
    "version": 3
   },
   "file_extension": ".py",
   "mimetype": "text/x-python",
   "name": "python",
   "nbconvert_exporter": "python",
   "pygments_lexer": "ipython3",
   "version": "3.13.6"
  }
 },
 "nbformat": 4,
 "nbformat_minor": 5
}
