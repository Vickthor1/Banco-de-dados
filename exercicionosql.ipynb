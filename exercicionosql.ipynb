{
 "cells": [
  {
   "cell_type": "code",
   "execution_count": null,
   "id": "5f126e0b",
   "metadata": {},
   "outputs": [
    {
     "name": "stdout",
     "output_type": "stream",
     "text": [
      "{'_id': ObjectId('68d6e45af80733e98159eb51'), 'nome': 'Bruno Santos', 'idade': 22, 'curso': 'Medicina', 'notas': [9.5, 8, 9], 'cidade': 'Rio de Janeiro', 'ativo': True, 'data_matricula': datetime.datetime(2023, 2, 1, 0, 0)}\n",
      "{'_id': ObjectId('68d6e45af80733e98159eb53'), 'nome': 'Diana Costa', 'idade': 25, 'curso': 'Direito', 'notas': [8, 9, 8.5], 'cidade': 'Belo Horizonte', 'ativo': True, 'data_matricula': datetime.datetime(2022, 8, 20, 0, 0)}\n",
      "{'_id': ObjectId('68d6e45af80733e98159eb54'), 'nome': 'Eduardo Rocha', 'idade': 21, 'curso': 'Computação', 'notas': [9, 9.5, 8.5], 'cidade': 'São Paulo', 'ativo': True, 'data_matricula': datetime.datetime(2023, 4, 12, 0, 0)}\n"
     ]
    }
   ],
   "source": [
    "'''\n",
    "📝 Exercício 1: Listar todos os alunos ativos com idade maior que 20 anos, ordenados por nome.\n",
    "mongosh: Use find() com filtros e sort()\n",
    "Python: Implemente com PyMongo usando filtros e ordenação\n",
    "'''\n",
    "from pymongo import MongoClient\n",
    "\n",
    "# Conexão com o MongoDB\n",
    "client = MongoClient(\"mongodb://localhost:27017/\")\n",
    "db = client[\"test\"]\n",
    "alunos = db[\"alunos\"]\n",
    "\n",
    "# Filtro e ordenação\n",
    "resultado = alunos.find(\n",
    "    {\"ativo\": True, \"idade\": {\"$gt\": 20}}\n",
    ").sort(\"nome\", 1)\n",
    "\n",
    "# Exibir resultados\n",
    "for aluno in resultado:\n",
    "    print(aluno)\n",
    "    \n",
    "\"---------------------------------------------------------------------------------------------------\"\n",
    "'''\n",
    "db.alunos.find(\n",
    "  { ativo: true, idade: { $gt: 20 } }\n",
    ").sort({ nome: 1 })\n",
    "'''"
   ]
  },
  {
   "cell_type": "code",
   "execution_count": null,
   "id": "4dc4dc1c",
   "metadata": {},
   "outputs": [
    {
     "name": "stdout",
     "output_type": "stream",
     "text": [
      "{'Engenharia': 2}\n"
     ]
    }
   ],
   "source": [
    "'''\n",
    "📝 Exercício 2: Contar quantos alunos existem por curso e mostrar apenas cursos com mais de 1 aluno.\n",
    "mongosh: Use aggregate() com $group e $match\n",
    "Python: Crie uma função que retorne um dicionário com o resultado\n",
    "'''\n",
    "from pymongo import MongoClient\n",
    "\n",
    "def contar_alunos_por_curso():\n",
    "    client = MongoClient(\"mongodb://localhost:27017/\")\n",
    "    db = client[\"test\"]\n",
    "    alunos = db[\"alunos\"]\n",
    "\n",
    "    pipeline = [\n",
    "        {\"$group\": {\"_id\": \"$curso\", \"totalAlunos\": {\"$sum\": 1}}},\n",
    "        {\"$match\": {\"totalAlunos\": {\"$gt\": 1}}}\n",
    "    ]\n",
    "\n",
    "    resultado = alunos.aggregate(pipeline)\n",
    "\n",
    "    # Converter para dicionário {curso: totalAlunos}\n",
    "    return {doc[\"_id\"]: doc[\"totalAlunos\"] for doc in resultado}\n",
    "\n",
    "# Exemplo de uso\n",
    "print(contar_alunos_por_curso())\n",
    "\n",
    "\"-------------------------------------------------------------------------------------------------------\"\n",
    "'''\n",
    "db.alunos.aggregate([\n",
    "  { $group: { _id: \"$curso\", totalAlunos: { $sum: 1 } } },\n",
    "  { $match: { totalAlunos: { $gt: 1 } } }\n",
    "])\n",
    "\n",
    "'''"
   ]
  },
  {
   "cell_type": "code",
   "execution_count": null,
   "id": "e3ad1216",
   "metadata": {},
   "outputs": [
    {
     "name": "stdout",
     "output_type": "stream",
     "text": [
      "{'_id': ObjectId('68d6e45af80733e98159eb50'), 'nome': 'Ana Silva', 'idade': 20, 'curso': 'Engenharia', 'notas': [8.5, 9, 7.5], 'cidade': 'São Paulo', 'ativo': True, 'data_matricula': datetime.datetime(2023, 3, 15, 0, 0)}\n"
     ]
    }
   ],
   "source": [
    "'''\n",
    "📝 Exercício 3: Encontrar todos os alunos cujo nome contém \"Silva\" (case-insensitive).\n",
    "mongosh: Use $regex com $options\n",
    "Python: Implemente busca por regex usando re (módulo Python)\n",
    "'''\n",
    "\n",
    "from pymongo import MongoClient\n",
    "import re\n",
    "\n",
    "# Conexão com MongoDB\n",
    "client = MongoClient(\"mongodb://localhost:27017/\")\n",
    "db = client[\"test\"]\n",
    "alunos = db[\"alunos\"]\n",
    "\n",
    "# Regex em Python (case-insensitive)\n",
    "regex = re.compile(\"Silva\", re.IGNORECASE)\n",
    "\n",
    "resultado = alunos.find({\"nome\": regex})\n",
    "\n",
    "# Exibir resultados\n",
    "for aluno in resultado:\n",
    "    print(aluno)\n",
    "    \n",
    "\"-------------------------------------------------------------------------------------------------------\"\n",
    "'''\n",
    "db.alunos.find(\n",
    "  { nome: { $regex: \"Silva\", $options: \"i\" } }\n",
    ")\n",
    "\n",
    "'''"
   ]
  },
  {
   "cell_type": "code",
   "execution_count": null,
   "id": "73889859",
   "metadata": {},
   "outputs": [
    {
     "name": "stdout",
     "output_type": "stream",
     "text": [
      "Média geral: 8.67\n"
     ]
    }
   ],
   "source": [
    "'''\n",
    "📝 Exercício 4: Calcular a média geral de notas de todos os alunos ativos.\n",
    "mongosh: Use aggregate() com $unwind e $group\n",
    "Python: Processe os dados e calcule a média usando statistics.mean()\n",
    "'''\n",
    "from pymongo import MongoClient\n",
    "from statistics import mean\n",
    "\n",
    "client = MongoClient(\"mongodb://localhost:27017/\")\n",
    "db = client[\"test\"]\n",
    "alunos = db[\"alunos\"]\n",
    "\n",
    "# Buscar alunos ativos\n",
    "ativos = alunos.find({\"ativo\": True})\n",
    "\n",
    "# Extrair todas as notas\n",
    "todas_notas = []\n",
    "for aluno in ativos:\n",
    "    todas_notas.extend(aluno.get(\"notas\", []))  # garante que, se não houver notas, não quebre\n",
    "\n",
    "# Calcular média geral\n",
    "if todas_notas:\n",
    "    media_geral = mean(todas_notas)\n",
    "    print(f\"Média geral: {media_geral:.2f}\")\n",
    "else:\n",
    "    print(\"Não há notas para calcular a média.\")\n",
    "    \n",
    "\"-------------------------------------------------------------------------------------------------------\"\n",
    "'''\n",
    "db.alunos.aggregate([\n",
    "  { $match: { ativo: true } },           // filtrar alunos ativos\n",
    "  { $unwind: \"$notas\" },                 // \"desempacotar\" as notas do array\n",
    "  { $group: { \n",
    "      _id: null, \n",
    "      mediaGeral: { $avg: \"$notas\" }    // calcular média de todas as notas\n",
    "  }}\n",
    "])\n",
    "\n",
    "'''"
   ]
  },
  {
   "cell_type": "code",
   "execution_count": null,
   "id": "2aaaa88e",
   "metadata": {},
   "outputs": [
    {
     "name": "stdout",
     "output_type": "stream",
     "text": [
      "Nome: Eduardo Rocha, Curso: Computação, Média: 9.00\n",
      "Nome: Bruno Santos, Curso: Medicina, Média: 8.83\n",
      "Nome: Diana Costa, Curso: Direito, Média: 8.50\n"
     ]
    }
   ],
   "source": [
    "'''\n",
    "📝 Exercício 5: Listar os 3 alunos com maior média individual, mostrando nome, curso e média.\n",
    "mongosh: Use $addFields para calcular média, depois $sort e $limit\n",
    "Python: Calcule médias em memória e use sorted() com key personalizada\n",
    "'''\n",
    "from pymongo import MongoClient\n",
    "from statistics import mean\n",
    "\n",
    "client = MongoClient(\"mongodb://localhost:27017/\")\n",
    "db = client[\"test\"]\n",
    "alunos = db[\"alunos\"]\n",
    "\n",
    "# Buscar todos os alunos\n",
    "todos_alunos = list(alunos.find())\n",
    "\n",
    "# Calcular média individual\n",
    "for aluno in todos_alunos:\n",
    "    notas = aluno.get(\"notas\", [])\n",
    "    aluno[\"media\"] = mean(notas) if notas else 0\n",
    "\n",
    "# Ordenar e pegar top 3\n",
    "top3 = sorted(todos_alunos, key=lambda x: x[\"media\"], reverse=True)[:3]\n",
    "\n",
    "# Exibir resultados\n",
    "for aluno in top3:\n",
    "    print(f\"Nome: {aluno['nome']}, Curso: {aluno['curso']}, Média: {aluno['media']:.2f}\")\n",
    "\n",
    "\"-------------------------------------------------------------------------------------------------------\"\n",
    "'''\n",
    "db.alunos.aggregate([\n",
    "  { \n",
    "    $addFields: { media: { $avg: \"$notas\" } }  // calcula a média individual\n",
    "  },\n",
    "  { $sort: { media: -1 } },                    // ordena da maior para a menor\n",
    "  { $limit: 3 },                               // pega apenas os 3 primeiros\n",
    "  { $project: { nome: 1, curso: 1, media: 1, _id: 0 } }  // mostra apenas os campos desejados\n",
    "])\n",
    "\n",
    "'''"
   ]
  }
 ],
 "metadata": {
  "kernelspec": {
   "display_name": ".venv",
   "language": "python",
   "name": "python3"
  },
  "language_info": {
   "codemirror_mode": {
    "name": "ipython",
    "version": 3
   },
   "file_extension": ".py",
   "mimetype": "text/x-python",
   "name": "python",
   "nbconvert_exporter": "python",
   "pygments_lexer": "ipython3",
   "version": "3.13.7"
  }
 },
 "nbformat": 4,
 "nbformat_minor": 5
}
